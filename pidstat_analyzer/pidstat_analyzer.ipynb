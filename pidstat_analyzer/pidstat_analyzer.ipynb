{
 "cells": [
  {
   "cell_type": "code",
   "execution_count": null,
   "metadata": {},
   "outputs": [],
   "source": [
    "%matplotlib inline\n",
    "\n",
    "import os\n",
    "import sys\n",
    "\n",
    "import matplotlib.pyplot as plt\n",
    "import matplotlib.ticker as ticker\n",
    "import numpy as np\n",
    "import pandas as pd\n",
    "\n",
    "plt.style.use(\"ggplot\")\n",
    "\n",
    "plt.rcParams[\"font.size\"]= 20\n",
    "plt.rcParams[\"xtick.labelsize\"]=20\n",
    "plt.rcParams[\"ytick.labelsize\"]=20\n",
    "plt.rcParams[\"figure.figsize\"]=(20,15)"
   ]
  },
  {
   "cell_type": "code",
   "execution_count": null,
   "metadata": {},
   "outputs": [],
   "source": [
    "INT_VALUE   = dict(type=\"uint64\",  regex=r\"\\d+?\")\n",
    "FLOAT_VALUE = dict(type=\"float64\", regex=r\"\\d+?\\.\\d+?\")"
   ]
  },
  {
   "cell_type": "code",
   "execution_count": null,
   "metadata": {},
   "outputs": [],
   "source": [
    "PIDSTAT_COLUMNS = dict([\n",
    "    (\"timestamp\",         INT_VALUE),\n",
    "    (\"uid\",               INT_VALUE),\n",
    "    (\"pid\",               INT_VALUE),\n",
    "    (\"user_usage\",        FLOAT_VALUE),\n",
    "    (\"system_usage\",      FLOAT_VALUE),\n",
    "    (\"guest_usage\",       FLOAT_VALUE),\n",
    "    (\"total_cpu_usage\",   FLOAT_VALUE),\n",
    "    (\"used_cpu_core\",     INT_VALUE),\n",
    "    (\"minor_fault\",       FLOAT_VALUE),\n",
    "    (\"major_fault\",       FLOAT_VALUE),\n",
    "    (\"virtual_size\",      INT_VALUE),\n",
    "    (\"resident_set_size\", INT_VALUE),\n",
    "    (\"memory_usage\",      FLOAT_VALUE),\n",
    "    (\"stack_size\",        INT_VALUE),\n",
    "    (\"stack_refs\",        INT_VALUE),\n",
    "    (\"kB_read\",           FLOAT_VALUE),\n",
    "    (\"kB_write\",          FLOAT_VALUE),\n",
    "    (\"kB_canceled_write\", FLOAT_VALUE),\n",
    "    (\"context_switch\",    FLOAT_VALUE),\n",
    "    (\"nv_context_switch\", FLOAT_VALUE),\n",
    "])"
   ]
  },
  {
   "cell_type": "code",
   "execution_count": null,
   "metadata": {},
   "outputs": [],
   "source": [
    "def extract_pattern(header):\n",
    "    return f\"(?P<{header}>{PIDSTAT_COLUMNS[header]['regex']})\""
   ]
  },
  {
   "cell_type": "code",
   "execution_count": null,
   "metadata": {},
   "outputs": [],
   "source": [
    "def convert_type(df):\n",
    "    for header, value_type in PIDSTAT_COLUMNS.items():\n",
    "        df[header] = df[header].astype(value_type['type'])"
   ]
  },
  {
   "cell_type": "code",
   "execution_count": null,
   "metadata": {},
   "outputs": [],
   "source": [
    "def ceiling(data_series):\n",
    "    str_val = str(int(max(data_series)))\n",
    "    digits  = len(str_val)\n",
    "    \n",
    "    # 1桁なら10\n",
    "    if digits == 1:\n",
    "        return 10\n",
    "\n",
    "    # 2桁なら、最上位桁を繰り上げ\n",
    "    if digits == 2:\n",
    "        return (int(str_val[0])+1) * 10\n",
    "\n",
    "    # 3桁以上なら、最上位桁の1つ低い桁を繰り上げ\n",
    "    ceil_val =   int(str_val[0])    * 10**(digits-1)\n",
    "    ceil_val += (int(str_val[1])+1) * 10**(digits-2)\n",
    "    \n",
    "    return ceil_val"
   ]
  },
  {
   "cell_type": "code",
   "execution_count": null,
   "metadata": {},
   "outputs": [],
   "source": [
    "EXTRACT_PATTERN = r\"^\\s+?\" + r\"\\s+?\".join([extract_pattern(header) for header in PIDSTAT_COLUMNS.keys()]) + r\".*\""
   ]
  },
  {
   "cell_type": "code",
   "execution_count": null,
   "metadata": {},
   "outputs": [],
   "source": [
    "# log名\n",
    "# Jupyter/IPython経由の場合は、カレントディレクトリから見つかった\"pidstat.log\"を使用\n",
    "try:\n",
    "    get_ipython()\n",
    "except NameError:\n",
    "    log_path = sys.argv[1]\n",
    "else:\n",
    "    import glob\n",
    "    log_path = \"pidstat.log\"\n",
    "\n",
    "# ファイルパス(拡張子なし), 拡張子\n",
    "file_path, ext = os.path.splitext(log_path[0])\n",
    "\n",
    "# 出力先、ファイル\n",
    "path_name, file_name = os.path.split(file_path)"
   ]
  },
  {
   "cell_type": "code",
   "execution_count": null,
   "metadata": {},
   "outputs": [],
   "source": [
    "# road file\n",
    "pidstat_df = pd.read_csv(log_path, header=None)\n",
    "\n",
    "# extract subjects\n",
    "pidstat_df = pidstat_df[pidstat_df[0].str.match(r\"^\\s+\\d\")]\n",
    "\n",
    "# split columns\n",
    "pidstat_df = pidstat_df[0].str.extract(EXTRACT_PATTERN).reset_index(drop=True)\n",
    "\n",
    "# convert value type\n",
    "convert_type(pidstat_df)\n",
    "\n",
    "# convert timestamp from UNIX epoch to JST\n",
    "pidstat_df['timestamp'] = pd.to_datetime(pidstat_df['timestamp'], unit='s', utc=True).apply(lambda t: t.tz_convert('Asia/Tokyo'))\n",
    "\n",
    "# set datetime index\n",
    "pidstat_df.set_index('timestamp', inplace=True, drop=True)\n",
    "pidstat_df"
   ]
  },
  {
   "cell_type": "markdown",
   "metadata": {},
   "source": [
    "##  CPU Usage"
   ]
  },
  {
   "cell_type": "code",
   "execution_count": null,
   "metadata": {},
   "outputs": [],
   "source": [
    "# 画像ファイルパス\n",
    "cpu_usage_file = os.path.join(path_name, \"pidstat_cpu_usage.png\")\n",
    "\n",
    "# 画像出力\n",
    "ax = pidstat_df[['user_usage', 'system_usage', 'guest_usage']].plot(kind=\"area\", stacked=True, alpha=0.8, figsize=(20, 15))\n",
    "ax.set_ylim(0, 100)\n",
    "ax.set_yticks(np.linspace(0, 100, 11))\n",
    "ax.yaxis.set_major_formatter(ticker.PercentFormatter())\n",
    "ax.set_title(\"CPU Usage\")\n",
    "\n",
    "ax.set_ylabel(\"CPU Usage\")\n",
    "ax.set_xlabel(\"Test elapsed time\")\n",
    "plt.savefig(cpu_usage_file, bbox_inches='tight')"
   ]
  },
  {
   "cell_type": "markdown",
   "metadata": {},
   "source": [
    "## MEM Usage"
   ]
  },
  {
   "cell_type": "code",
   "execution_count": null,
   "metadata": {},
   "outputs": [],
   "source": [
    "# 画像ファイルパス\n",
    "mem_usage_file = os.path.join(path_name, \"pidstat_mem_usage.png\")\n",
    "\n",
    "# ymax\n",
    "vsz_ymax = ceiling(pidstat_df['virtual_size'])\n",
    "rss_ymax = ceiling(pidstat_df['resident_set_size'])\n",
    "y_max = max(vsz_ymax, rss_ymax)\n",
    "\n",
    "# 画像出力\n",
    "ax = pidstat_df[['virtual_size', 'resident_set_size']].plot(kind=\"area\", stacked=False, alpha=0.7, figsize=(20, 15))\n",
    "ax.set_ylim(0, y_max)\n",
    "ax.set_yticks(np.linspace(0, y_max, 11))\n",
    "ax.yaxis.set_major_formatter(ticker.StrMethodFormatter(\"{x:,.0f}\"))\n",
    "ax.set_title(\"MEM Usage [KB]\")\n",
    "ax.set_ylabel(\"MEM Usage [KB]\")\n",
    "ax.set_xlabel(\"Test elapsed time\")\n",
    "plt.savefig(mem_usage_file, bbox_inches='tight')"
   ]
  },
  {
   "cell_type": "markdown",
   "metadata": {},
   "source": [
    "## Page Fault"
   ]
  },
  {
   "cell_type": "code",
   "execution_count": null,
   "metadata": {},
   "outputs": [],
   "source": [
    "# 画像ファイルパス\n",
    "page_fault_file = os.path.join(path_name, \"pidstat_page_fault_counts.png\")\n",
    "\n",
    "# ymax\n",
    "minor_ymax = ceiling(pidstat_df['minor_fault'])\n",
    "major_ymax = ceiling(pidstat_df['major_fault'])\n",
    "y_max = max(minor_ymax, major_ymax)\n",
    "\n",
    "# 画像出力\n",
    "ax = pidstat_df[['minor_fault', 'major_fault']].plot(alpha=0.8, figsize=(20, 15))\n",
    "ax.set_ylim(0, y_max)\n",
    "ax.set_yticks(np.linspace(0, y_max, 11))\n",
    "ax.yaxis.set_major_formatter(ticker.StrMethodFormatter(\"{x:,.0f}\"))\n",
    "ax.set_title(\"Minor/Major Fault per second\")\n",
    "ax.set_ylabel(\"Fault counts\")\n",
    "ax.set_xlabel(\"Test elapsed time\")\n",
    "plt.savefig(page_fault_file, bbox_inches='tight')"
   ]
  },
  {
   "cell_type": "markdown",
   "metadata": {},
   "source": [
    "## Context Switches"
   ]
  },
  {
   "cell_type": "code",
   "execution_count": null,
   "metadata": {},
   "outputs": [],
   "source": [
    "# 画像ファイルパス\n",
    "cswt_file = os.path.join(path_name, \"pidstat_context_switch_counts.png\")\n",
    "\n",
    "# ymax\n",
    "cswt_ymax = ceiling(pidstat_df['context_switch'])\n",
    "nv_cswt_ymax = ceiling(pidstat_df['nv_context_switch'])\n",
    "y_max = max(cswt_ymax, nv_cswt_ymax)\n",
    "\n",
    "# 画像出力\n",
    "ax = pidstat_df[['context_switch', 'nv_context_switch']].plot(alpha=0.8, figsize=(20, 15))\n",
    "ax.set_ylim(0, y_max)\n",
    "ax.set_yticks(np.linspace(0, y_max, 11))\n",
    "ax.yaxis.set_major_formatter(ticker.StrMethodFormatter(\"{x:,.0f}\"))\n",
    "ax.set_title(\"Context switch counts per second\")\n",
    "ax.set_ylabel(\"Context switch\")\n",
    "ax.set_xlabel(\"Test elapsed time\")\n",
    "plt.savefig(cswt_file, bbox_inches='tight')"
   ]
  },
  {
   "cell_type": "markdown",
   "metadata": {},
   "source": [
    "## Stack Size"
   ]
  },
  {
   "cell_type": "code",
   "execution_count": null,
   "metadata": {},
   "outputs": [],
   "source": [
    "# 画像ファイルパス\n",
    "stack_file = os.path.join(path_name, \"pidstat_stack_size.png\")\n",
    "\n",
    "# ymax\n",
    "y_max = ceiling(pidstat_df[['stack_size', 'stack_refs']].max())\n",
    "\n",
    "# 画像出力\n",
    "ax = pidstat_df[['stack_size', 'stack_refs']].plot(alpha=0.8, figsize=(20, 15))\n",
    "ax.set_ylim(0, y_max)\n",
    "ax.set_yticks(np.linspace(0, y_max, 11))\n",
    "ax.yaxis.set_major_formatter(ticker.StrMethodFormatter(\"{x:,.0f}\"))\n",
    "ax.set_title(\"Stack size and references\")\n",
    "ax.set_ylabel(\"Stack size/refs\")\n",
    "ax.set_xlabel(\"Test elapsed time\")\n",
    "plt.savefig(stack_file, bbox_inches='tight')"
   ]
  },
  {
   "cell_type": "markdown",
   "metadata": {},
   "source": [
    "## Disk I/O"
   ]
  },
  {
   "cell_type": "code",
   "execution_count": null,
   "metadata": {},
   "outputs": [],
   "source": [
    "# 画像ファイルパス\n",
    "disk_file = os.path.join(path_name, \"pidstat_disk_io.png\")\n",
    "\n",
    "# ymax\n",
    "y_max = ceiling(pidstat_df[['kB_read', 'kB_write', 'kB_canceled_write']].max())\n",
    "\n",
    "# 画像出力\n",
    "ax = pidstat_df[['kB_read', 'kB_write', 'kB_canceled_write']].plot(alpha=0.8, figsize=(20, 15))\n",
    "ax.set_ylim(0, y_max)\n",
    "ax.set_yticks(np.linspace(0, y_max, 11))\n",
    "ax.yaxis.set_major_formatter(ticker.StrMethodFormatter(\"{x:,.0f}\"))\n",
    "ax.set_title(\"Disk I/O [KB]\")\n",
    "ax.set_ylabel(\"Disk I/O [KB]\")\n",
    "ax.set_xlabel(\"Test elapsed time\")\n",
    "plt.savefig(disk_file, bbox_inches='tight')"
   ]
  }
 ],
 "metadata": {
  "hide_input": false,
  "jupytext": {
   "text_representation": {
    "extension": ".py",
    "format_name": "light",
    "format_version": "1.3",
    "jupytext_version": "0.8.4"
   }
  },
  "kernelspec": {
   "display_name": "Python 3",
   "language": "python",
   "name": "python3"
  },
  "language_info": {
   "codemirror_mode": {
    "name": "ipython",
    "version": 3
   },
   "file_extension": ".py",
   "mimetype": "text/x-python",
   "name": "python",
   "nbconvert_exporter": "python",
   "pygments_lexer": "ipython3",
   "version": "3.7.1"
  },
  "varInspector": {
   "cols": {
    "lenName": 16,
    "lenType": 16,
    "lenVar": 40
   },
   "kernels_config": {
    "python": {
     "delete_cmd_postfix": "",
     "delete_cmd_prefix": "del ",
     "library": "var_list.py",
     "varRefreshCmd": "print(var_dic_list())"
    },
    "r": {
     "delete_cmd_postfix": ") ",
     "delete_cmd_prefix": "rm(",
     "library": "var_list.r",
     "varRefreshCmd": "cat(var_dic_list()) "
    }
   },
   "position": {
    "height": "643.85px",
    "left": "1505px",
    "right": "87px",
    "top": "140px",
    "width": "328px"
   },
   "types_to_exclude": [
    "module",
    "function",
    "builtin_function_or_method",
    "instance",
    "_Feature"
   ],
   "window_display": false
  }
 },
 "nbformat": 4,
 "nbformat_minor": 2
}
