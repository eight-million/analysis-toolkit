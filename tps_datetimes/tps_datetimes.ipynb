{
 "cells": [
  {
   "cell_type": "code",
   "execution_count": null,
   "metadata": {},
   "outputs": [],
   "source": [
    "%matplotlib inline\n",
    "\n",
    "import datetime\n",
    "import os\n",
    "import sys\n",
    "\n",
    "import pandas as pd\n",
    "import numpy as np\n",
    "\n",
    "import matplotlib.pyplot as plt\n",
    "import matplotlib.ticker as ticker\n",
    "\n",
    "plt.style.use(\"ggplot\")\n",
    "\n",
    "plt.rcParams[\"font.size\"]= 20\n",
    "plt.rcParams[\"xtick.labelsize\"]=20\n",
    "plt.rcParams[\"ytick.labelsize\"]=20\n",
    "plt.rcParams[\"figure.figsize\"]=(20,15)"
   ]
  },
  {
   "cell_type": "code",
   "execution_count": null,
   "metadata": {},
   "outputs": [],
   "source": [
    "# log名\n",
    "# Jupyter/IPython経由の場合は、カレントディレクトリから見つかった\"tps_datetimes.log\"を使用\n",
    "try:\n",
    "    get_ipython()\n",
    "except NameError:\n",
    "    log_path = sys.argv[1]\n",
    "else:\n",
    "    log_path = \"datetimes.log\"\n",
    "\n",
    "# ファイルパス(拡張子なし), 拡張子\n",
    "file_path, ext = os.path.splitext(log_path[0])\n",
    "\n",
    "# 出力先、ファイル\n",
    "path_name, file_name = os.path.split(file_path)\n",
    "\n",
    "df = pd.read_csv(log_path, parse_dates=[\"datetime\"], names=[\"datetime\"])"
   ]
  },
  {
   "cell_type": "code",
   "execution_count": null,
   "metadata": {},
   "outputs": [],
   "source": [
    "# 0秒基準に\n",
    "elapsed_index = pd.DatetimeIndex(df[\"datetime\"]).to_perioddelta(\"T\")\n",
    "origin_s, origin_ms = elapsed_index[0].seconds, elapsed_index[0].microseconds\n",
    "df[\"elapsed_time\"] = elapsed_index - datetime.timedelta(seconds=origin_s, microseconds=origin_ms)"
   ]
  },
  {
   "cell_type": "code",
   "execution_count": null,
   "metadata": {},
   "outputs": [],
   "source": [
    "# 累積件数(cumsum)を追加\n",
    "df[\"cumsum\"] = df.index + 1"
   ]
  },
  {
   "cell_type": "code",
   "execution_count": null,
   "metadata": {},
   "outputs": [],
   "source": [
    "# 秒(S)間隔でリサンプリング\n",
    "df_per_sec = df.resample(rule=\"S\", on=\"datetime\").count()\n",
    "\n",
    "# 移動平均(30個ずつ)も追加\n",
    "df_per_sec[\"rolling_mean_30\"] = df_per_sec[\"cumsum\"].rolling(window=30, center=True).mean()"
   ]
  },
  {
   "cell_type": "code",
   "execution_count": null,
   "metadata": {},
   "outputs": [],
   "source": [
    "def ceiling(data_series):\n",
    "    str_val = str(int(max(data_series)))\n",
    "    digits  = len(str_val)\n",
    "    \n",
    "    # 1桁なら10\n",
    "    if digits == 1:\n",
    "        return 10\n",
    "\n",
    "    # 2桁なら、最上位桁を繰り上げ\n",
    "    if digits == 2:\n",
    "        return (int(str_val[0])+1) * 10\n",
    "\n",
    "    # 3桁以上なら、最上位桁の1つ低い桁を繰り上げ\n",
    "    ceil_val =   int(str_val[0])    * 10**(digits-1)\n",
    "    ceil_val += (int(str_val[1])+1) * 10**(digits-2)\n",
    "    \n",
    "    return ceil_val"
   ]
  },
  {
   "cell_type": "code",
   "execution_count": null,
   "metadata": {},
   "outputs": [],
   "source": [
    "fig, left = plt.subplots(figsize=(16, 9))\n",
    "\n",
    "# 累積グラフ(赤線)\n",
    "left_y_max = ceiling(df[\"cumsum\"])\n",
    "left.plot(pd.DatetimeIndex(df[\"datetime\"]), df[\"cumsum\"], \"r-.x\", label=\"cumulative sum\")\n",
    "left.set_xlabel(\"test time\")\n",
    "left.set_ylabel(\"cumsum\")\n",
    "left.set_ylim(0, left_y_max)\n",
    "left.set_yticks(np.linspace(0, left_y_max, 11))\n",
    "left.yaxis.set_major_formatter(ticker.StrMethodFormatter(\"{x:,.0f}\"))\n",
    "\n",
    "# 単位時間(秒間)あたりのサンプル数(青線)\n",
    "right_y_max = ceiling(df_per_sec[\"cumsum\"])\n",
    "right = left.twinx()\n",
    "right.plot(df_per_sec[\"cumsum\"], \"b-.o\", label=\"write per second\")\n",
    "right.set_ylabel(\"records per second\")\n",
    "right.set_ylim(0, right_y_max)\n",
    "right.set_yticks(np.linspace(0, right_y_max, 11))\n",
    "right.yaxis.set_major_formatter(ticker.StrMethodFormatter(\"{x:,.0f}\"))\n",
    "\n",
    "# 移動平均(緑線)\n",
    "right.plot(df_per_sec[\"rolling_mean_30\"], \"g-.+\", label=\"rolling mean(window=30)\")\n",
    "\n",
    "# 凡例追加\n",
    "fig.legend()\n",
    "plt.savefig(\"./tps_datetimes.png\")"
   ]
  }
 ],
 "metadata": {
  "hide_input": false,
  "jupytext": {
   "text_representation": {
    "extension": ".py",
    "format_name": "light",
    "format_version": "1.3",
    "jupytext_version": "0.8.4"
   }
  },
  "kernelspec": {
   "display_name": "Python 3",
   "language": "python",
   "name": "python3"
  },
  "language_info": {
   "codemirror_mode": {
    "name": "ipython",
    "version": 3
   },
   "file_extension": ".py",
   "mimetype": "text/x-python",
   "name": "python",
   "nbconvert_exporter": "python",
   "pygments_lexer": "ipython3",
   "version": "3.7.1"
  },
  "varInspector": {
   "cols": {
    "lenName": 16,
    "lenType": 16,
    "lenVar": 40
   },
   "kernels_config": {
    "python": {
     "delete_cmd_postfix": "",
     "delete_cmd_prefix": "del ",
     "library": "var_list.py",
     "varRefreshCmd": "print(var_dic_list())"
    },
    "r": {
     "delete_cmd_postfix": ") ",
     "delete_cmd_prefix": "rm(",
     "library": "var_list.r",
     "varRefreshCmd": "cat(var_dic_list()) "
    }
   },
   "types_to_exclude": [
    "module",
    "function",
    "builtin_function_or_method",
    "instance",
    "_Feature"
   ],
   "window_display": false
  }
 },
 "nbformat": 4,
 "nbformat_minor": 2
}
