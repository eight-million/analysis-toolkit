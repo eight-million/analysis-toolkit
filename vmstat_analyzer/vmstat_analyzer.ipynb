{
 "cells": [
  {
   "cell_type": "code",
   "execution_count": null,
   "metadata": {},
   "outputs": [],
   "source": [
    "%matplotlib inline\n",
    "\n",
    "from datetime import datetime\n",
    "import os\n",
    "import sys\n",
    "\n",
    "import matplotlib.pyplot as plt\n",
    "import matplotlib.ticker as ticker\n",
    "import numpy as np\n",
    "import pandas as pd\n",
    "\n",
    "plt.style.use(\"ggplot\")\n",
    "\n",
    "plt.rcParams[\"font.size\"]= 20\n",
    "plt.rcParams[\"xtick.labelsize\"]=20\n",
    "plt.rcParams[\"ytick.labelsize\"]=20\n",
    "plt.rcParams[\"figure.figsize\"]=(20,15)"
   ]
  },
  {
   "cell_type": "code",
   "execution_count": null,
   "metadata": {},
   "outputs": [],
   "source": [
    "INT_VALUE   = dict(type=\"uint64\",  regex=r\"\\d+?\")\n",
    "FLOAT_VALUE = dict(type=\"float64\", regex=r\"\\d+?\\.\\d+?\")"
   ]
  },
  {
   "cell_type": "code",
   "execution_count": null,
   "metadata": {},
   "outputs": [],
   "source": [
    "VMSTAT_COLUMNS = dict([\n",
    "    (\"proc\", dict([\n",
    "        (\"run_queue\", INT_VALUE),\n",
    "        (\"blocking\",  INT_VALUE),\n",
    "    ])),\n",
    "    (\"memory\", dict([\n",
    "        (\"swapped\",   INT_VALUE),\n",
    "        (\"free\",      INT_VALUE),\n",
    "        (\"buffered\",  INT_VALUE),\n",
    "        (\"cached\",    INT_VALUE),\n",
    "    ])),\n",
    "    (\"swap\", dict([\n",
    "        (\"swap_in\",   INT_VALUE),\n",
    "        (\"swap_out\",  INT_VALUE),\n",
    "    ])),\n",
    "    (\"io\", dict([\n",
    "        (\"block_in\",  INT_VALUE),\n",
    "        (\"block_out\", INT_VALUE),\n",
    "    ])),\n",
    "    (\"system\", dict([\n",
    "        (\"interrupt\", INT_VALUE),\n",
    "        (\"context_switch\", INT_VALUE),\n",
    "    ])),\n",
    "    (\"cpu\", dict([\n",
    "        (\"user\",      INT_VALUE),\n",
    "        (\"system\",    INT_VALUE),\n",
    "        (\"idle\",      INT_VALUE),\n",
    "        (\"io_wait\",   INT_VALUE),\n",
    "        (\"steal\",     INT_VALUE),\n",
    "    ]))\n",
    "])"
   ]
  },
  {
   "cell_type": "code",
   "execution_count": null,
   "metadata": {},
   "outputs": [],
   "source": [
    "def extract_pattern(category, column):\n",
    "    return f\"(?P<{column}>{VMSTAT_COLUMNS[category][column]['regex']})\""
   ]
  },
  {
   "cell_type": "code",
   "execution_count": null,
   "metadata": {},
   "outputs": [],
   "source": [
    "def convert_type(df):\n",
    "    for columns in VMSTAT_COLUMNS.values():\n",
    "        for key, value_type in columns.items():\n",
    "            df[key] = df[key].astype(value_type['type'])\n",
    "    \n",
    "    df['timestamp'] = df['timestamp'].apply(lambda d: datetime.strptime(d, \"%Y-%m-%d %H:%M:%S\"))"
   ]
  },
  {
   "cell_type": "code",
   "execution_count": null,
   "metadata": {},
   "outputs": [],
   "source": [
    "def ceiling(data_series):\n",
    "    str_val = str(int(max(data_series)))\n",
    "    digits  = len(str_val)\n",
    "    \n",
    "    # 1桁なら10\n",
    "    if digits == 1:\n",
    "        return 10\n",
    "\n",
    "    # 2桁なら、最上位桁を繰り上げ\n",
    "    if digits == 2:\n",
    "        return (int(str_val[0])+1) * 10\n",
    "\n",
    "    # 3桁以上なら、最上位桁の1つ低い桁を繰り上げ\n",
    "    ceil_val =   int(str_val[0])    * 10**(digits-1)\n",
    "    ceil_val += (int(str_val[1])+1) * 10**(digits-2)\n",
    "    \n",
    "    return ceil_val"
   ]
  },
  {
   "cell_type": "code",
   "execution_count": null,
   "metadata": {},
   "outputs": [],
   "source": [
    "columns = [extract_pattern(category, column) for category in VMSTAT_COLUMNS.keys() for column in VMSTAT_COLUMNS[category].keys()]\n",
    "\n",
    "# timestamp regex (YYYY-mm-dd HH:MM:SS)\n",
    "timestamp_regex = r\"\\d{4}-\\d{2}-\\d{2}\\s+\\d{2}:\\d{2}:\\d{2}\"\n",
    "\n",
    "# 列分割用正規表現\n",
    "EXTRACT_PATTERN = r\"^\\s*?\" + r\"\\s+?\".join(columns) + r\"\\s+\" + f\"(?P<timestamp>{timestamp_regex})\" + r\".*$\""
   ]
  },
  {
   "cell_type": "code",
   "execution_count": null,
   "metadata": {},
   "outputs": [],
   "source": [
    "# log名\n",
    "# Jupyter/IPython経由の場合は、カレントディレクトリから見つかった\"pidstat.log\"を使用\n",
    "try:\n",
    "    get_ipython()\n",
    "except NameError:\n",
    "    log_path = sys.argv[1]\n",
    "else:\n",
    "    import glob\n",
    "    log_path = \"vmstat.log\"\n",
    "\n",
    "# ファイルパス(拡張子なし), 拡張子\n",
    "file_path, ext = os.path.splitext(log_path[0])\n",
    "\n",
    "# 出力先、ファイル\n",
    "path_name, file_name = os.path.split(file_path)"
   ]
  },
  {
   "cell_type": "code",
   "execution_count": null,
   "metadata": {},
   "outputs": [],
   "source": [
    "# road file\n",
    "vmstat_df = pd.read_csv(log_path, header=None)\n",
    "\n",
    "# extract subjects\n",
    "vmstat_df = vmstat_df[vmstat_df[0].str.match(r\"^\\s*\\d\")]\n",
    "\n",
    "# split columns\n",
    "vmstat_df = vmstat_df[0].str.extract(EXTRACT_PATTERN).reset_index(drop=True)\n",
    "\n",
    "# convert value type\n",
    "convert_type(vmstat_df)\n",
    "\n",
    "# set datetime index\n",
    "vmstat_df.set_index('timestamp', inplace=True, drop=True)\n",
    "\n",
    "# convert multiindex\n",
    "index_tuples = [(category, column) for category in VMSTAT_COLUMNS.keys() for column in VMSTAT_COLUMNS[category].keys()]\n",
    "vmstat_df.columns = pd.MultiIndex.from_tuples(index_tuples, names=[\"category\", \"column\"])\n",
    "\n",
    "vmstat_df"
   ]
  },
  {
   "cell_type": "markdown",
   "metadata": {},
   "source": [
    "## Process Info"
   ]
  },
  {
   "cell_type": "code",
   "execution_count": null,
   "metadata": {},
   "outputs": [],
   "source": [
    "# 画像ファイルパス\n",
    "proc_file = os.path.join(path_name, \"vmstat_proc.png\")\n",
    "\n",
    "# ymax\n",
    "y_max = ceiling(vmstat_df['proc'].max())\n",
    "\n",
    "# 画像出力\n",
    "ax = vmstat_df['proc'].plot(alpha=0.8, figsize=(20, 15))\n",
    "ax.set_ylim(0, y_max)\n",
    "ax.set_yticks(np.linspace(0, y_max, 11))\n",
    "ax.yaxis.set_major_formatter(ticker.ScalarFormatter())\n",
    "ax.set_title(\"Process Information\")\n",
    "\n",
    "ax.set_ylabel(\"Run Queue/Blocking processes\")\n",
    "ax.set_xlabel(\"Test elapsed time\")\n",
    "plt.savefig(proc_file, bbox_inches='tight')"
   ]
  },
  {
   "cell_type": "markdown",
   "metadata": {},
   "source": [
    "## MEM Usage"
   ]
  },
  {
   "cell_type": "code",
   "execution_count": null,
   "metadata": {},
   "outputs": [],
   "source": [
    "# 画像ファイルパス\n",
    "mem_usage_file = os.path.join(path_name, \"vmstat_mem_usage.png\")\n",
    "\n",
    "# ymax\n",
    "y_max = ceiling(vmstat_df['memory'].sum(axis=1))\n",
    "\n",
    "# 画像出力\n",
    "ax = vmstat_df['memory'].plot(kind=\"area\", alpha=0.7, figsize=(20, 15))\n",
    "ax.set_ylim(0, y_max)\n",
    "ax.set_yticks(np.linspace(0, y_max, 11))\n",
    "ax.yaxis.set_major_formatter(ticker.StrMethodFormatter(\"{x:,.0f}\"))\n",
    "ax.set_title(\"MEM Usage [KB]\")\n",
    "ax.set_ylabel(\"MEM Usage [KB]\")\n",
    "ax.set_xlabel(\"Test elapsed time\")\n",
    "plt.savefig(mem_usage_file, bbox_inches='tight')"
   ]
  },
  {
   "cell_type": "markdown",
   "metadata": {},
   "source": [
    "## Swapping"
   ]
  },
  {
   "cell_type": "code",
   "execution_count": null,
   "metadata": {},
   "outputs": [],
   "source": [
    "# 画像ファイルパス\n",
    "swapping_file = os.path.join(path_name, \"vmstat_swapping.png\")\n",
    "\n",
    "# ymax\n",
    "y_max = ceiling(vmstat_df['swap'].max())\n",
    "\n",
    "# 画像出力\n",
    "ax = vmstat_df['swap'].plot(alpha=0.8, figsize=(20, 15))\n",
    "ax.set_ylim(0, y_max)\n",
    "ax.set_yticks(np.linspace(0, y_max, 11))\n",
    "ax.yaxis.set_major_formatter(ticker.ScalarFormatter())\n",
    "ax.set_title(\"Swapping\")\n",
    "\n",
    "ax.set_ylabel(\"Swap IN/OUT\")\n",
    "ax.set_xlabel(\"Test elapsed time\")\n",
    "plt.savefig(swapping_file, bbox_inches='tight')"
   ]
  },
  {
   "cell_type": "markdown",
   "metadata": {},
   "source": [
    "## Disk I/O"
   ]
  },
  {
   "cell_type": "code",
   "execution_count": null,
   "metadata": {},
   "outputs": [],
   "source": [
    "# 画像ファイルパス\n",
    "disk_io_file = os.path.join(path_name, \"vmstat_disk_io.png\")\n",
    "\n",
    "# ymax\n",
    "y_max = ceiling(vmstat_df['io'].max())\n",
    "\n",
    "# 画像出力\n",
    "ax = vmstat_df['io'].plot(alpha=0.8, figsize=(20, 15))\n",
    "ax.set_ylim(0, y_max)\n",
    "ax.set_yticks(np.linspace(0, y_max, 11))\n",
    "ax.yaxis.set_major_formatter(ticker.StrMethodFormatter(\"{x:,.0f}\"))\n",
    "ax.set_title(\"Disk I/O (Block count)\")\n",
    "ax.set_ylabel(\"Block count\")\n",
    "ax.set_xlabel(\"Test elapsed time\")\n",
    "plt.savefig(disk_io_file, bbox_inches='tight')"
   ]
  },
  {
   "cell_type": "markdown",
   "metadata": {},
   "source": [
    "## System Info"
   ]
  },
  {
   "cell_type": "code",
   "execution_count": null,
   "metadata": {},
   "outputs": [],
   "source": [
    "# 画像ファイルパス\n",
    "sysinfo_file = os.path.join(path_name, \"vmstat_system_info.png\")\n",
    "\n",
    "# ymax\n",
    "y_max = ceiling(vmstat_df['system'].max())\n",
    "\n",
    "# 画像出力\n",
    "ax = vmstat_df['system'].plot(alpha=0.8, figsize=(20, 15))\n",
    "ax.set_ylim(0, y_max)\n",
    "ax.set_yticks(np.linspace(0, y_max, 11))\n",
    "ax.yaxis.set_major_formatter(ticker.StrMethodFormatter(\"{x:,.0f}\"))\n",
    "ax.set_title(\"System Information (Context Switch/Interruption)\")\n",
    "ax.set_ylabel(\"Context Switch & Interruption\")\n",
    "ax.set_xlabel(\"Test elapsed time\")\n",
    "plt.savefig(sysinfo_file, bbox_inches='tight')"
   ]
  },
  {
   "cell_type": "markdown",
   "metadata": {},
   "source": [
    "## CPU Usage"
   ]
  },
  {
   "cell_type": "code",
   "execution_count": null,
   "metadata": {},
   "outputs": [],
   "source": [
    "# 画像ファイルパス\n",
    "cpu_usage_file = os.path.join(path_name, \"vmstat_cpu_usage.png\")\n",
    "\n",
    "# ymax\n",
    "y_max = 100\n",
    "\n",
    "# 画像出力\n",
    "ax = vmstat_df['cpu'].plot(kind=\"area\", alpha=0.8, stacked=True, figsize=(20, 15))\n",
    "ax.set_ylim(0, y_max)\n",
    "ax.set_yticks(np.linspace(0, y_max, 11))\n",
    "ax.yaxis.set_major_formatter(ticker.PercentFormatter())\n",
    "ax.set_title(\"CPU Usage\")\n",
    "ax.set_ylabel(\"CPU Usage\")\n",
    "ax.set_xlabel(\"Test elapsed time\")\n",
    "plt.savefig(cpu_usage_file, bbox_inches='tight')"
   ]
  }
 ],
 "metadata": {
  "hide_input": false,
  "jupytext": {
   "text_representation": {
    "extension": ".py",
    "format_name": "light",
    "format_version": "1.3",
    "jupytext_version": "0.8.4"
   }
  },
  "kernelspec": {
   "display_name": "Python 3",
   "language": "python",
   "name": "python3"
  },
  "language_info": {
   "codemirror_mode": {
    "name": "ipython",
    "version": 3
   },
   "file_extension": ".py",
   "mimetype": "text/x-python",
   "name": "python",
   "nbconvert_exporter": "python",
   "pygments_lexer": "ipython3",
   "version": "3.7.1"
  },
  "varInspector": {
   "cols": {
    "lenName": 16,
    "lenType": 16,
    "lenVar": 40
   },
   "kernels_config": {
    "python": {
     "delete_cmd_postfix": "",
     "delete_cmd_prefix": "del ",
     "library": "var_list.py",
     "varRefreshCmd": "print(var_dic_list())"
    },
    "r": {
     "delete_cmd_postfix": ") ",
     "delete_cmd_prefix": "rm(",
     "library": "var_list.r",
     "varRefreshCmd": "cat(var_dic_list()) "
    }
   },
   "position": {
    "height": "643.85px",
    "left": "1505px",
    "right": "87px",
    "top": "140px",
    "width": "328px"
   },
   "types_to_exclude": [
    "module",
    "function",
    "builtin_function_or_method",
    "instance",
    "_Feature"
   ],
   "window_display": false
  }
 },
 "nbformat": 4,
 "nbformat_minor": 2
}
